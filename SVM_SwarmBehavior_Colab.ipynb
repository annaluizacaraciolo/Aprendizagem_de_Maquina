{
  "cells": [
    {
      "cell_type": "markdown",
      "metadata": {
        "id": "view-in-github",
        "colab_type": "text"
      },
      "source": [
        "<a href=\"https://colab.research.google.com/github/annaluizacaraciolo/Aprendizagem_de_Maquina/blob/main/SVM_SwarmBehavior_Colab.ipynb\" target=\"_parent\"><img src=\"https://colab.research.google.com/assets/colab-badge.svg\" alt=\"Open In Colab\"/></a>"
      ]
    },
    {
      "cell_type": "markdown",
      "id": "f081c548",
      "metadata": {
        "id": "f081c548"
      },
      "source": [
        "## Importing dataset"
      ]
    },
    {
      "cell_type": "code",
      "source": [
        "import pandas as pd\n",
        "# Import all 3 separate files\n",
        "aligned = pd.read_csv(\"Aligned.csv\")\n",
        "flocking = pd.read_csv(\"Flocking.csv\")\n",
        "grouped = pd.read_csv(\"Grouped.csv\")"
      ],
      "metadata": {
        "colab": {
          "base_uri": "https://localhost:8080/"
        },
        "id": "ctt88AeKx1LR",
        "outputId": "be8c273d-14cc-4db0-f896-2e7f9b87b2e8"
      },
      "id": "ctt88AeKx1LR",
      "execution_count": 1,
      "outputs": [
        {
          "output_type": "stream",
          "name": "stderr",
          "text": [
            "<ipython-input-1-23313a9d868c>:4: DtypeWarning: Columns (0) have mixed types. Specify dtype option on import or set low_memory=False.\n",
            "  flocking = pd.read_csv(\"Flocking.csv\")\n"
          ]
        }
      ]
    },
    {
      "cell_type": "code",
      "source": [
        "# Concatenate the dataframes into a single dataframe\n",
        "df = pd.concat([aligned, flocking, grouped])\n",
        "\n",
        "# Reset the index of the concatenated dataframe\n",
        "df = df.reset_index(drop=True)"
      ],
      "metadata": {
        "id": "CjYhhvCdy_WQ"
      },
      "id": "CjYhhvCdy_WQ",
      "execution_count": 2,
      "outputs": []
    },
    {
      "cell_type": "code",
      "source": [
        "# Drop last column\n",
        "df = df.iloc[:,:-1]\n",
        "\n",
        "# Drop first column\n",
        "df.drop(['x1'], axis=1, inplace=True)\n",
        "\n",
        "df.dtypes"
      ],
      "metadata": {
        "id": "1JXM0PfOzBDC",
        "colab": {
          "base_uri": "https://localhost:8080/"
        },
        "outputId": "1c4a71ef-6d9b-4ab7-ceb4-d294c58c9dc8"
      },
      "id": "1JXM0PfOzBDC",
      "execution_count": 3,
      "outputs": [
        {
          "output_type": "execute_result",
          "data": {
            "text/plain": [
              "y1        float64\n",
              "xVel1     float64\n",
              "yVel1     float64\n",
              "xA1       float64\n",
              "yA1       float64\n",
              "           ...   \n",
              "xC200     float64\n",
              "yC200     float64\n",
              "nAC200      int64\n",
              "nS200       int64\n",
              "Class     float64\n",
              "Length: 2400, dtype: object"
            ]
          },
          "metadata": {},
          "execution_count": 3
        }
      ]
    },
    {
      "cell_type": "code",
      "source": [
        "# Substitute all NaN with the mean of the column\n",
        "df.fillna(df.mean(), inplace=True)"
      ],
      "metadata": {
        "id": "tBmnbxdBzBwb"
      },
      "id": "tBmnbxdBzBwb",
      "execution_count": 4,
      "outputs": []
    },
    {
      "cell_type": "code",
      "source": [
        "# Change all columns to datatype float\n",
        "df = df.astype('float64')\n",
        "\n",
        "# Change Class column to int\n",
        "df['Class'] = df['Class'].astype('int64')\n",
        "\n",
        "df.dtypes"
      ],
      "metadata": {
        "id": "gYH3MXTpzE-u",
        "colab": {
          "base_uri": "https://localhost:8080/"
        },
        "outputId": "cf21f51e-5bd8-4dca-f186-de0937580a03"
      },
      "id": "gYH3MXTpzE-u",
      "execution_count": 5,
      "outputs": [
        {
          "output_type": "execute_result",
          "data": {
            "text/plain": [
              "y1        float64\n",
              "xVel1     float64\n",
              "yVel1     float64\n",
              "xA1       float64\n",
              "yA1       float64\n",
              "           ...   \n",
              "xC200     float64\n",
              "yC200     float64\n",
              "nAC200    float64\n",
              "nS200     float64\n",
              "Class       int64\n",
              "Length: 2400, dtype: object"
            ]
          },
          "metadata": {},
          "execution_count": 5
        }
      ]
    },
    {
      "cell_type": "code",
      "source": [
        "# Identificar e tratar valores discrepantes (outliers)\n",
        "outliers = []\n",
        "for col in df.columns:\n",
        "    Q1 = df[col].quantile(0.25)\n",
        "    Q3 = df[col].quantile(0.75)\n",
        "    IQR = Q3 - Q1\n",
        "    lower_bound = Q1 - 1.5 * IQR\n",
        "    upper_bound = Q3 + 1.5 * IQR\n",
        "    outliers.extend(df[(df[col] < lower_bound) | (df[col] > upper_bound)].index)\n",
        "data = df.drop(outliers)"
      ],
      "metadata": {
        "id": "PcChXcxdxvTO"
      },
      "id": "PcChXcxdxvTO",
      "execution_count": 6,
      "outputs": []
    },
    {
      "cell_type": "markdown",
      "id": "4aae42fc",
      "metadata": {
        "id": "4aae42fc"
      },
      "source": [
        "Swarm Behaviour. (2020). UCI Machine Learning Repository."
      ]
    },
    {
      "cell_type": "markdown",
      "id": "8192ae9c",
      "metadata": {
        "id": "8192ae9c"
      },
      "source": [
        "## Training model"
      ]
    },
    {
      "cell_type": "code",
      "execution_count": 7,
      "id": "dc9c1b89",
      "metadata": {
        "id": "dc9c1b89"
      },
      "outputs": [],
      "source": [
        "from sklearn.model_selection import train_test_split"
      ]
    },
    {
      "cell_type": "code",
      "execution_count": 8,
      "id": "f6d64746",
      "metadata": {
        "id": "f6d64746"
      },
      "outputs": [],
      "source": [
        "y = aligned.Class\n",
        "X = aligned.drop('Class', axis=1)\n",
        "train_ratio = 0.7\n",
        "test_ratio = 0.20\n",
        "X_train, X_test, y_train, y_test = train_test_split(X, y, train_size=train_ratio, random_state=1)"
      ]
    },
    {
      "cell_type": "code",
      "source": [
        "X_train, X_valid, y_train, y_valid = train_test_split(X_train, y_train, test_size = 0.25, random_state = 10)"
      ],
      "metadata": {
        "id": "Q8ZLaXDiSwSt"
      },
      "id": "Q8ZLaXDiSwSt",
      "execution_count": 12,
      "outputs": []
    },
    {
      "cell_type": "code",
      "execution_count": 9,
      "id": "9070079a",
      "metadata": {
        "id": "9070079a"
      },
      "outputs": [],
      "source": [
        "from sklearn import svm"
      ]
    },
    {
      "cell_type": "code",
      "execution_count": 10,
      "id": "8ef54127",
      "metadata": {
        "id": "8ef54127"
      },
      "outputs": [],
      "source": [
        "svm_classifier = svm.SVC()"
      ]
    },
    {
      "cell_type": "code",
      "execution_count": 11,
      "id": "0594b18d",
      "metadata": {
        "id": "0594b18d",
        "outputId": "de000918-e6bb-46e6-b984-c09bc3024993",
        "colab": {
          "base_uri": "https://localhost:8080/",
          "height": 74
        }
      },
      "outputs": [
        {
          "output_type": "execute_result",
          "data": {
            "text/plain": [
              "SVC()"
            ],
            "text/html": [
              "<style>#sk-container-id-1 {color: black;background-color: white;}#sk-container-id-1 pre{padding: 0;}#sk-container-id-1 div.sk-toggleable {background-color: white;}#sk-container-id-1 label.sk-toggleable__label {cursor: pointer;display: block;width: 100%;margin-bottom: 0;padding: 0.3em;box-sizing: border-box;text-align: center;}#sk-container-id-1 label.sk-toggleable__label-arrow:before {content: \"▸\";float: left;margin-right: 0.25em;color: #696969;}#sk-container-id-1 label.sk-toggleable__label-arrow:hover:before {color: black;}#sk-container-id-1 div.sk-estimator:hover label.sk-toggleable__label-arrow:before {color: black;}#sk-container-id-1 div.sk-toggleable__content {max-height: 0;max-width: 0;overflow: hidden;text-align: left;background-color: #f0f8ff;}#sk-container-id-1 div.sk-toggleable__content pre {margin: 0.2em;color: black;border-radius: 0.25em;background-color: #f0f8ff;}#sk-container-id-1 input.sk-toggleable__control:checked~div.sk-toggleable__content {max-height: 200px;max-width: 100%;overflow: auto;}#sk-container-id-1 input.sk-toggleable__control:checked~label.sk-toggleable__label-arrow:before {content: \"▾\";}#sk-container-id-1 div.sk-estimator input.sk-toggleable__control:checked~label.sk-toggleable__label {background-color: #d4ebff;}#sk-container-id-1 div.sk-label input.sk-toggleable__control:checked~label.sk-toggleable__label {background-color: #d4ebff;}#sk-container-id-1 input.sk-hidden--visually {border: 0;clip: rect(1px 1px 1px 1px);clip: rect(1px, 1px, 1px, 1px);height: 1px;margin: -1px;overflow: hidden;padding: 0;position: absolute;width: 1px;}#sk-container-id-1 div.sk-estimator {font-family: monospace;background-color: #f0f8ff;border: 1px dotted black;border-radius: 0.25em;box-sizing: border-box;margin-bottom: 0.5em;}#sk-container-id-1 div.sk-estimator:hover {background-color: #d4ebff;}#sk-container-id-1 div.sk-parallel-item::after {content: \"\";width: 100%;border-bottom: 1px solid gray;flex-grow: 1;}#sk-container-id-1 div.sk-label:hover label.sk-toggleable__label {background-color: #d4ebff;}#sk-container-id-1 div.sk-serial::before {content: \"\";position: absolute;border-left: 1px solid gray;box-sizing: border-box;top: 0;bottom: 0;left: 50%;z-index: 0;}#sk-container-id-1 div.sk-serial {display: flex;flex-direction: column;align-items: center;background-color: white;padding-right: 0.2em;padding-left: 0.2em;position: relative;}#sk-container-id-1 div.sk-item {position: relative;z-index: 1;}#sk-container-id-1 div.sk-parallel {display: flex;align-items: stretch;justify-content: center;background-color: white;position: relative;}#sk-container-id-1 div.sk-item::before, #sk-container-id-1 div.sk-parallel-item::before {content: \"\";position: absolute;border-left: 1px solid gray;box-sizing: border-box;top: 0;bottom: 0;left: 50%;z-index: -1;}#sk-container-id-1 div.sk-parallel-item {display: flex;flex-direction: column;z-index: 1;position: relative;background-color: white;}#sk-container-id-1 div.sk-parallel-item:first-child::after {align-self: flex-end;width: 50%;}#sk-container-id-1 div.sk-parallel-item:last-child::after {align-self: flex-start;width: 50%;}#sk-container-id-1 div.sk-parallel-item:only-child::after {width: 0;}#sk-container-id-1 div.sk-dashed-wrapped {border: 1px dashed gray;margin: 0 0.4em 0.5em 0.4em;box-sizing: border-box;padding-bottom: 0.4em;background-color: white;}#sk-container-id-1 div.sk-label label {font-family: monospace;font-weight: bold;display: inline-block;line-height: 1.2em;}#sk-container-id-1 div.sk-label-container {text-align: center;}#sk-container-id-1 div.sk-container {/* jupyter's `normalize.less` sets `[hidden] { display: none; }` but bootstrap.min.css set `[hidden] { display: none !important; }` so we also need the `!important` here to be able to override the default hidden behavior on the sphinx rendered scikit-learn.org. See: https://github.com/scikit-learn/scikit-learn/issues/21755 */display: inline-block !important;position: relative;}#sk-container-id-1 div.sk-text-repr-fallback {display: none;}</style><div id=\"sk-container-id-1\" class=\"sk-top-container\"><div class=\"sk-text-repr-fallback\"><pre>SVC()</pre><b>In a Jupyter environment, please rerun this cell to show the HTML representation or trust the notebook. <br />On GitHub, the HTML representation is unable to render, please try loading this page with nbviewer.org.</b></div><div class=\"sk-container\" hidden><div class=\"sk-item\"><div class=\"sk-estimator sk-toggleable\"><input class=\"sk-toggleable__control sk-hidden--visually\" id=\"sk-estimator-id-1\" type=\"checkbox\" checked><label for=\"sk-estimator-id-1\" class=\"sk-toggleable__label sk-toggleable__label-arrow\">SVC</label><div class=\"sk-toggleable__content\"><pre>SVC()</pre></div></div></div></div></div>"
            ]
          },
          "metadata": {},
          "execution_count": 11
        }
      ],
      "source": [
        "svm_classifier.fit(X_train, y_train)"
      ]
    },
    {
      "cell_type": "code",
      "source": [
        "from sklearn.model_selection import cross_val_score\n",
        "import matplotlib.pyplot as plt"
      ],
      "metadata": {
        "id": "oD7WJX1R4YzG"
      },
      "id": "oD7WJX1R4YzG",
      "execution_count": 13,
      "outputs": []
    },
    {
      "cell_type": "code",
      "source": [
        "kernels_range = ['linear', 'rbf', 'sigmoid', 'precomputed']\n",
        "c_range = [0.1, 1, 10]\n",
        "k_scores_train = []\n",
        "k_scores_valid = []\n",
        "k_scores_cross = []\n",
        "\n",
        "# use iteration to caclulator different kernels in models, then return the average accuracy based on the cross validation\n",
        "\n",
        "for k in range(4):\n",
        "    for j in c_range:\n",
        "      svc = svm.SVC(C=j, random_state=10, kernel=kernels_range[k])\n",
        "      scores = cross_val_score(svc, X_train, y_train, cv=5, scoring='accuracy')\n",
        "      k_scores_cross.append(scores.mean())\n",
        "      svc.fit(X_train, y_train)\n",
        "      k_scores_train.append(svc.score(X_train, y_train))\n",
        "      k_scores_valid.append(svc.score(X_valid, y_valid))"
      ],
      "metadata": {
        "id": "FByBbQrESTRQ"
      },
      "id": "FByBbQrESTRQ",
      "execution_count": null,
      "outputs": []
    },
    {
      "cell_type": "code",
      "source": [
        "# plot to see clearly\n",
        "plt.plot(list(range(0,len(k_scores_cross))), k_scores_cross)\n",
        "plt.plot(list(range(0,len(k_scores_train))), k_scores_train)\n",
        "plt.plot(list(range(0,len(k_scores_valid))), k_scores_valid)\n",
        "plt.legend(('Validacao cruzada', 'Treinamento', 'Validacao'),\n",
        "           loc='upper center', shadow=True)\n",
        "plt.xlabel('Value of kernels for SVM')\n",
        "plt.ylabel('Cross-Validated Accuracy')\n",
        "plt.show()"
      ],
      "metadata": {
        "colab": {
          "base_uri": "https://localhost:8080/",
          "height": 449
        },
        "id": "xtlKnfQkratf",
        "outputId": "20c3cd4c-a8db-4d7f-c55e-f9505405e3b8"
      },
      "id": "xtlKnfQkratf",
      "execution_count": 15,
      "outputs": [
        {
          "output_type": "display_data",
          "data": {
            "text/plain": [
              "<Figure size 640x480 with 1 Axes>"
            ],
            "image/png": "[encoded data removed]"
          },
          "metadata": {}
        }
      ]
    },
    {
      "cell_type": "code",
      "source": [
        "print(\"Acuracia de treinamento clf: %0.3f\" %  svm_classifier.score(X_train, y_train))\n",
        "print(\"Acuracia de validacao clf: %0.3f\" %  svm_classifier.score(X_valid, y_valid))\n",
        "print(\"Acuracia de teste clf: %0.3f\" %  svm_classifier.score(X_test, y_test))"
      ],
      "metadata": {
        "colab": {
          "base_uri": "https://localhost:8080/"
        },
        "id": "KR6lZ3KfrsEr",
        "outputId": "cc93f99c-9b40-46e3-8297-f452917a5dec"
      },
      "id": "KR6lZ3KfrsEr",
      "execution_count": 16,
      "outputs": [
        {
          "output_type": "stream",
          "name": "stdout",
          "text": [
            "Acuracia de treinamento clf: 0.940\n",
            "Acuracia de validacao clf: 0.939\n",
            "Acuracia de teste clf: 0.936\n"
          ]
        }
      ]
    },
    {
      "cell_type": "code",
      "execution_count": 17,
      "id": "3df8bd54",
      "metadata": {
        "id": "3df8bd54"
      },
      "outputs": [],
      "source": [
        "from sklearn.metrics import confusion_matrix, accuracy_score, precision_score, f1_score"
      ]
    },
    {
      "cell_type": "code",
      "execution_count": 18,
      "id": "992f8b27",
      "metadata": {
        "id": "992f8b27"
      },
      "outputs": [],
      "source": [
        "cm_svm = confusion_matrix(y_test, svm_classifier.predict(X_test))"
      ]
    },
    {
      "cell_type": "code",
      "execution_count": 19,
      "id": "c9395e00",
      "metadata": {
        "id": "c9395e00",
        "outputId": "bf804fb5-d07b-4a39-9b2b-1f3f036695b5",
        "colab": {
          "base_uri": "https://localhost:8080/",
          "height": 447
        }
      },
      "outputs": [
        {
          "output_type": "execute_result",
          "data": {
            "text/plain": [
              "<Axes: >"
            ]
          },
          "metadata": {},
          "execution_count": 19
        },
        {
          "output_type": "display_data",
          "data": {
            "text/plain": [
              "<Figure size 640x480 with 2 Axes>"
            ],
            "image/png": "[encoded data removed]"
          },
          "metadata": {}
        }
      ],
      "source": [
        "import seaborn as sns\n",
        "sns.heatmap(cm_svm, annot=True)"
      ]
    }
  ],
  "metadata": {
    "kernelspec": {
      "display_name": "Python 3 (ipykernel)",
      "language": "python",
      "name": "python3"
    },
    "language_info": {
      "codemirror_mode": {
        "name": "ipython",
        "version": 3
      },
      "file_extension": ".py",
      "mimetype": "text/x-python",
      "name": "python",
      "nbconvert_exporter": "python",
      "pygments_lexer": "ipython3",
      "version": "3.10.1"
    },
    "colab": {
      "provenance": [],
      "include_colab_link": true
    },
    "gpuClass": "standard"
  },
  "nbformat": 4,
  "nbformat_minor": 5
}